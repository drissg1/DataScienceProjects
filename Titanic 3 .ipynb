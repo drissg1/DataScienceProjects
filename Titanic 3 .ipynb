{
 "cells": [
  {
   "cell_type": "markdown",
   "metadata": {},
   "source": [
    "There are a few areas where this can be improved:\n",
    "- Dealing with highly corealted features, like Age*Class and New_age\n",
    "- Use a learning model to fit the missing Age Values, tried lienar regression and neural net(for practice) not much improvment but could have more succes with others\n",
    "- the Fare value has a strong right skew, tried log transform but some 0's mess with transformation and not much improvment when I tried earlier\n",
    "- Think of new features that could have some effect, also refine features with feature selection. \n",
    "- Have tried other models besides Random Forrest but they were inferior, more extensive hyper-param tuning could help increase model accuracy\n",
    "- Look deeper into Outlier data points \n",
    "- Adjust threshold value using confusion matrix as basis for tuning\n",
    "- Best score of .7751 classification accuracy,\n"
   ]
  },
  {
   "cell_type": "code",
   "execution_count": 1,
   "metadata": {},
   "outputs": [],
   "source": [
    "'''Importing all relevant libraries and their functions and also \n",
    "defining the test and train set'''\n",
    "\n",
    "import numpy as np\n",
    "import pandas as pd\n",
    "\n",
    "from sklearn import preprocessing \n",
    "from sklearn.ensemble import RandomForestClassifier\n",
    "from sklearn.pipeline import make_pipeline\n",
    "from sklearn.model_selection import GridSearchCV\n",
    "\n",
    "train = pd.read_csv('data/train.csv')\n",
    "test = pd.read_csv('data/test.csv')\n"
   ]
  },
  {
   "cell_type": "code",
   "execution_count": 2,
   "metadata": {
    "collapsed": true
   },
   "outputs": [],
   "source": [
    "'''Creating working data frames for manipulation'''\n",
    "X_train = train.copy()\n",
    "X_test = test.copy()\n",
    "y_train = X_train.pop('Survived')"
   ]
  },
  {
   "cell_type": "code",
   "execution_count": 3,
   "metadata": {
    "collapsed": true
   },
   "outputs": [],
   "source": [
    "'''imputing None for Na values in cabin and the mean Value for Fare for groupedby Pclass, Parch, Sex, Sibsp'''\n",
    "X_train['Embarked'].fillna('C',inplace=True)\n",
    "X_test.loc[X_test.Fare.isnull(),['Fare']] =8.613629"
   ]
  },
  {
   "cell_type": "code",
   "execution_count": 4,
   "metadata": {
    "collapsed": true
   },
   "outputs": [],
   "source": [
    "def substring_in_string(long_string,substrings):\n",
    "    # Function to search for a smaller substring in a larger string    \n",
    "    for substring in substrings:\n",
    "        if substring in long_string:\n",
    "            return (substring) \n",
    "    return('none')"
   ]
  },
  {
   "cell_type": "code",
   "execution_count": 5,
   "metadata": {
    "collapsed": true
   },
   "outputs": [],
   "source": [
    "'''If one of these titles is in the name column, replace the value of the name with title'''\n",
    "titles = ['Mrs', 'Mr', 'Master', 'Miss', 'Major', 'Rev',\n",
    "                    'Dr', 'Ms', 'Mlle','Col', 'Capt', 'Mme', 'Countess',\n",
    "                    'Don', 'Jonkheer']\n",
    "X_train['Title'] = X_train['Name'].map(lambda x: substring_in_string(x,substrings = titles))\n",
    "X_test['Title'] = X_test['Name'].map(lambda x: substring_in_string(x,substrings = titles))"
   ]
  },
  {
   "cell_type": "code",
   "execution_count": 6,
   "metadata": {
    "collapsed": true
   },
   "outputs": [],
   "source": [
    "def replace_title(x):  \n",
    "    #Function to replace a given title with either Mrs, Mr. or Miss\n",
    "    title=x['Title']\n",
    "    if (title in ['Don', 'Major', 'Capt', 'Jonkheer', 'Rev', 'Col']):\n",
    "            return 'Mr'\n",
    "    elif (title in ['Countess', 'Mme']):\n",
    "            return 'Mrs'\n",
    "    elif title in ['Mlle', 'Ms']:\n",
    "            return 'Miss'\n",
    "    elif title == 'Dr':\n",
    "            if x['Sex'] == 'Male':\n",
    "                return 'Mr'\n",
    "            else:\n",
    "                return 'Mrs'\n",
    "    else:\n",
    "            return title"
   ]
  },
  {
   "cell_type": "code",
   "execution_count": 7,
   "metadata": {
    "collapsed": true
   },
   "outputs": [],
   "source": [
    "'''Applying replace title function '''\n",
    "X_train.Title = X_train.apply(replace_title,axis=1)\n",
    "X_test.Title = X_test.apply(replace_title,axis=1)"
   ]
  },
  {
   "cell_type": "code",
   "execution_count": 8,
   "metadata": {
    "collapsed": true
   },
   "outputs": [],
   "source": [
    "'''Defining and applying cabin_filling function '''\n",
    "def cabin_filling(x):\n",
    "    # tries to return first letter of cabin if not then it will return none\n",
    "    try:\n",
    "        return x[0]\n",
    "    except:\n",
    "        return 'None'\n",
    "    \n",
    "X_train['Deck']=X_train['Cabin'].map(lambda x: cabin_filling(x))\n",
    "X_test['Deck']=X_test['Cabin'].map(lambda x: cabin_filling(x))\n"
   ]
  },
  {
   "cell_type": "code",
   "execution_count": 9,
   "metadata": {
    "collapsed": true
   },
   "outputs": [],
   "source": [
    "'''Popping the columns that have either been cleaned or should not have impact on model '''\n",
    "X_train.drop(['PassengerId',\"Name\",\"Ticket\",\"Cabin\"],axis=1,inplace=True)\n",
    "X_test.drop(['PassengerId',\"Name\",\"Ticket\",\"Cabin\"],axis=1,inplace=True)"
   ]
  },
  {
   "cell_type": "code",
   "execution_count": 10,
   "metadata": {
    "collapsed": true
   },
   "outputs": [],
   "source": [
    "'''filling creating groupbys to ultimately replace missing age values'''\n",
    "train_grouped = X_train.groupby(['Sex','Pclass','Parch','Title'])\n",
    "test_grouped = X_test.groupby(['Sex','Pclass','Title'])\n",
    "f = lambda x: x.fillna(x.median())"
   ]
  },
  {
   "cell_type": "code",
   "execution_count": 11,
   "metadata": {
    "collapsed": true
   },
   "outputs": [],
   "source": [
    "#creating filled in dataframe\n",
    "train_trans = train_grouped.transform(f)\n",
    "test_trans = test_grouped.transform(f)"
   ]
  },
  {
   "cell_type": "code",
   "execution_count": 12,
   "metadata": {
    "collapsed": true
   },
   "outputs": [],
   "source": [
    "#creating just a New_age value \n",
    "X_train['New_Age'] = train_trans['Age']\n",
    "X_test['New_Age'] = test_trans['Age']"
   ]
  },
  {
   "cell_type": "code",
   "execution_count": 13,
   "metadata": {
    "collapsed": true
   },
   "outputs": [],
   "source": [
    "#Dropping old Age column \n",
    "X_train.drop('Age',axis=1,inplace=True)\n",
    "X_test.drop('Age',axis=1,inplace=True)"
   ]
  },
  {
   "cell_type": "code",
   "execution_count": 14,
   "metadata": {
    "collapsed": true
   },
   "outputs": [],
   "source": [
    "#Creating Two new features, Family Size, and Age*Class column \n",
    "X_train['Family_size'] = X_train['SibSp'] + X_train['Parch'] \n",
    "X_test['Family_size'] = X_test['SibSp'] + X_test['Parch'] \n",
    "\n",
    "X_train['Age*Class']=X_train['New_Age']*X_train['Pclass']\n",
    "X_test['Age*Class']=X_test['New_Age']*X_test['Pclass']"
   ]
  },
  {
   "cell_type": "code",
   "execution_count": 15,
   "metadata": {
    "collapsed": true
   },
   "outputs": [],
   "source": [
    "'''Defining all categorcal varibale for dummy implimentation '''\n",
    "categorical_variables =['Sex','Deck','Embarked','Title']"
   ]
  },
  {
   "cell_type": "code",
   "execution_count": 16,
   "metadata": {
    "collapsed": true
   },
   "outputs": [],
   "source": [
    "#getting Dummies\n",
    "X_train = pd.get_dummies(X_train,columns = categorical_variables)\n",
    "X_test = pd.get_dummies(X_test,columns = categorical_variables)"
   ]
  },
  {
   "cell_type": "code",
   "execution_count": 17,
   "metadata": {
    "collapsed": true
   },
   "outputs": [],
   "source": [
    "# columns not in the test set but in training set\n",
    "X_test['Embarked_Missing'] = 0\n",
    "X_test['Deck_T']=0"
   ]
  },
  {
   "cell_type": "code",
   "execution_count": 18,
   "metadata": {
    "collapsed": true
   },
   "outputs": [],
   "source": [
    "#standardizing the values then creating the pipleine and grid search dictioanry\n",
    "pipeline = make_pipeline(preprocessing.StandardScaler(), \n",
    "                         RandomForestClassifier(n_estimators=1000))\n",
    "n_est = list(range(100, 1000, 100))\n",
    "max_feat= ['sqrt','log2']       \n",
    "#param_grid = dict(randomforestclassifier__max_features = max_feat,\n",
    "#                  randomforestclassifier__min_samples_leaf=min_samples,\n",
    "#                  randomforestclassifier__n_estimators = n_est)\n",
    "param_grid = dict(randomforestclassifier__n_estimators = n_est,randomforestclassifier__max_features = max_feat)"
   ]
  },
  {
   "cell_type": "code",
   "execution_count": 19,
   "metadata": {},
   "outputs": [
    {
     "data": {
      "text/plain": [
       "GridSearchCV(cv=10, error_score='raise',\n",
       "       estimator=Pipeline(steps=[('standardscaler', StandardScaler(copy=True, with_mean=True, with_std=True)), ('randomforestclassifier', RandomForestClassifier(bootstrap=True, class_weight=None, criterion='gini',\n",
       "            max_depth=None, max_features='auto', max_leaf_nodes=None,\n",
       "            min_impurit...tors=1000, n_jobs=1, oob_score=False,\n",
       "            random_state=None, verbose=0, warm_start=False))]),\n",
       "       fit_params={}, iid=True, n_jobs=1,\n",
       "       param_grid={'randomforestclassifier__n_estimators': [100, 200, 300, 400, 500, 600, 700, 800, 900], 'randomforestclassifier__max_features': ['sqrt', 'log2']},\n",
       "       pre_dispatch='2*n_jobs', refit=True, return_train_score=True,\n",
       "       scoring='accuracy', verbose=0)"
      ]
     },
     "execution_count": 19,
     "metadata": {},
     "output_type": "execute_result"
    }
   ],
   "source": [
    "#fitting model\n",
    "grid = GridSearchCV(pipeline,param_grid, cv=10,scoring = 'accuracy')\n",
    "grid.fit(X_train,y_train)"
   ]
  },
  {
   "cell_type": "code",
   "execution_count": 20,
   "metadata": {},
   "outputs": [
    {
     "data": {
      "text/plain": [
       "{'randomforestclassifier__max_features': 'log2',\n",
       " 'randomforestclassifier__n_estimators': 500}"
      ]
     },
     "execution_count": 20,
     "metadata": {},
     "output_type": "execute_result"
    }
   ],
   "source": [
    "grid.best_params_"
   ]
  },
  {
   "cell_type": "code",
   "execution_count": 21,
   "metadata": {},
   "outputs": [
    {
     "data": {
      "text/plain": [
       "0.8204264870931538"
      ]
     },
     "execution_count": 21,
     "metadata": {},
     "output_type": "execute_result"
    }
   ],
   "source": [
    "#best CV score\n",
    "grid.best_score_"
   ]
  },
  {
   "cell_type": "code",
   "execution_count": 22,
   "metadata": {
    "collapsed": true
   },
   "outputs": [],
   "source": [
    "#making sure that order of columns is same\n",
    "cols = X_train.columns.tolist()\n",
    "X_test = X_test[cols]"
   ]
  },
  {
   "cell_type": "code",
   "execution_count": 28,
   "metadata": {
    "collapsed": true
   },
   "outputs": [],
   "source": [
    "#Getting predicted values and writing to a file \n",
    "y_test_pred = grid.predict(X_test)\n",
    "\n",
    "final = pd.DataFrame({'PassengerId':test.PassengerId,'Survived':y_test_pred }).set_index('PassengerId').to_csv('entry12.csv')"
   ]
  },
  {
   "cell_type": "code",
   "execution_count": 23,
   "metadata": {
    "collapsed": true
   },
   "outputs": [],
   "source": [
    "from sklearn.feature_selection import SelectFromModel"
   ]
  },
  {
   "cell_type": "code",
   "execution_count": 27,
   "metadata": {
    "collapsed": true
   },
   "outputs": [],
   "source": [
    "clf = RandomForestClassifier(n_estimators=500,max_features='log2')\n",
    "clf = clf.fit(X_train,y_train)"
   ]
  },
  {
   "cell_type": "code",
   "execution_count": 28,
   "metadata": {
    "collapsed": true
   },
   "outputs": [],
   "source": [
    "features = pd.DataFrame()\n",
    "features['feature'] = X_train.columns\n",
    "features['importance'] = clf.feature_importances_\n",
    "features.sort_values(by=['importance'],ascending = True,inplace=True)\n",
    "features.set_index('feature',inplace = True)"
   ]
  },
  {
   "cell_type": "code",
   "execution_count": 29,
   "metadata": {},
   "outputs": [
    {
     "data": {
      "text/plain": [
       "<matplotlib.axes._subplots.AxesSubplot at 0x1136f8470>"
      ]
     },
     "execution_count": 29,
     "metadata": {},
     "output_type": "execute_result"
    },
    {
     "data": {
      "image/png": "[encoded data removed]",
      "text/plain": [
       "<matplotlib.figure.Figure at 0x1136f8c18>"
      ]
     },
     "metadata": {},
     "output_type": "display_data"
    }
   ],
   "source": [
    "%matplotlib inline\n",
    "features.plot(kind='barh',figsize =(20,20))"
   ]
  },
  {
   "cell_type": "code",
   "execution_count": null,
   "metadata": {
    "collapsed": true
   },
   "outputs": [],
   "source": []
  }
 ],
 "metadata": {
  "kernelspec": {
   "display_name": "Python 3",
   "language": "python",
   "name": "python3"
  },
  "language_info": {
   "codemirror_mode": {
    "name": "ipython",
    "version": 3
   },
   "file_extension": ".py",
   "mimetype": "text/x-python",
   "name": "python",
   "nbconvert_exporter": "python",
   "pygments_lexer": "ipython3",
   "version": "3.6.1"
  },
  "widgets": {
   "application/vnd.jupyter.widget-state+json": {
    "state": {},
    "version_major": 1,
    "version_minor": 0
   }
  }
 },
 "nbformat": 4,
 "nbformat_minor": 2
}
